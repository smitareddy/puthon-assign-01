{
 "cells": [
  {
   "cell_type": "code",
   "execution_count": 2,
   "metadata": {},
   "outputs": [
    {
     "name": "stdout",
     "output_type": "stream",
     "text": [
      "RANBOW\n"
     ]
    }
   ],
   "source": [
    "print(\"RANBOW\")"
   ]
  },
  {
   "cell_type": "code",
   "execution_count": 3,
   "metadata": {},
   "outputs": [
    {
     "name": "stdout",
     "output_type": "stream",
     "text": [
      "LETS UPGRADE\n"
     ]
    }
   ],
   "source": [
    "print(\"LETS UPGRADE\")"
   ]
  },
  {
   "cell_type": "code",
   "execution_count": 5,
   "metadata": {},
   "outputs": [
    {
     "name": "stdout",
     "output_type": "stream",
     "text": [
      "enter the value of cost price20\n",
      "enter the value of selling price30\n",
      "profit\n"
     ]
    }
   ],
   "source": [
    "CP=int(input(\"enter the value of cost price\"))\n",
    "SP=int(input(\"enter the value of selling price\"))\n",
    "if(SP>CP):\n",
    "    print(\"profit\")\n",
    "elif(CP>SP):\n",
    "    print(\"loss\")\n",
    "else:\n",
    "    print(\"neither\")"
   ]
  },
  {
   "cell_type": "code",
   "execution_count": 6,
   "metadata": {},
   "outputs": [
    {
     "name": "stdout",
     "output_type": "stream",
     "text": [
      "enter the value of cost price20\n",
      "enter the value of selling price10\n",
      "loss\n"
     ]
    }
   ],
   "source": [
    "CP=int(input(\"enter the value of cost price\"))\n",
    "SP=int(input(\"enter the value of selling price\"))\n",
    "if(SP>CP):\n",
    "    print(\"profit\")\n",
    "elif(CP>SP):\n",
    "    print(\"loss\")\n",
    "else:\n",
    "    print(\"neither\")"
   ]
  },
  {
   "cell_type": "code",
   "execution_count": 9,
   "metadata": {},
   "outputs": [
    {
     "name": "stdout",
     "output_type": "stream",
     "text": [
      "enter the value of cost price20\n",
      "enter the value of selling price20\n",
      "neither\n"
     ]
    }
   ],
   "source": [
    "CP=int(input(\"enter the value of cost price\"))\n",
    "SP=int(input(\"enter the value of selling price\"))\n",
    "if(SP>CP):\n",
    "    print(\"profit\")\n",
    "elif(CP>SP):\n",
    "    print(\"loss\")\n",
    "else:\n",
    "    print(\"neither\")"
   ]
  },
  {
   "cell_type": "code",
   "execution_count": 7,
   "metadata": {},
   "outputs": [
    {
     "name": "stdout",
     "output_type": "stream",
     "text": [
      "enter the value of cost price19\n",
      "enter the value of selling price19\n",
      "neither\n"
     ]
    }
   ],
   "source": [
    "CP=int(input(\"enter the value of cost price\"))\n",
    "SP=int(input(\"enter the value of selling price\"))\n",
    "if(SP>CP):\n",
    "    print(\"profit\")\n",
    "elif(CP>SP):\n",
    "    print(\"loss\")\n",
    "else:\n",
    "    print(\"neither\")"
   ]
  },
  {
   "cell_type": "code",
   "execution_count": 8,
   "metadata": {},
   "outputs": [
    {
     "name": "stdout",
     "output_type": "stream",
     "text": [
      "enter the value of cost price23\n",
      "enter the value of selling price7\n",
      "loss\n"
     ]
    }
   ],
   "source": [
    "CP=int(input(\"enter the value of cost price\"))\n",
    "SP=int(input(\"enter the value of selling price\"))\n",
    "if(SP>CP):\n",
    "    print(\"profit\")\n",
    "elif(CP>SP):\n",
    "    print(\"loss\")\n",
    "else:\n",
    "    print(\"neither\")"
   ]
  },
  {
   "cell_type": "code",
   "execution_count": 10,
   "metadata": {},
   "outputs": [
    {
     "name": "stdout",
     "output_type": "stream",
     "text": [
      "enter the value of cost price19\n",
      "enter the value of selling price95\n",
      "profit\n"
     ]
    }
   ],
   "source": [
    "CP=int(input(\"enter the value of cost price\"))\n",
    "SP=int(input(\"enter the value of selling price\"))\n",
    "if(SP>CP):\n",
    "    print(\"profit\")\n",
    "elif(CP>SP):\n",
    "    print(\"loss\")\n",
    "else:\n",
    "    print(\"neither\")"
   ]
  },
  {
   "cell_type": "code",
   "execution_count": 11,
   "metadata": {},
   "outputs": [
    {
     "name": "stdout",
     "output_type": "stream",
     "text": [
      "enter the value of euros20\n",
      "20 equivalent in rupees is 1600\n"
     ]
    }
   ],
   "source": [
    "euros=int(input(\"enter the value of euros\"))\n",
    "rupees=80*euros\n",
    "print(euros,\"equivalent in rupees is\",rupees)\n"
   ]
  },
  {
   "cell_type": "code",
   "execution_count": 12,
   "metadata": {},
   "outputs": [
    {
     "name": "stdout",
     "output_type": "stream",
     "text": [
      "enter the value of euros50\n",
      "50 equivalent in rupees is 4000\n"
     ]
    }
   ],
   "source": [
    "euros=int(input(\"enter the value of euros\"))\n",
    "rupees=80*euros\n",
    "print(euros,\"equivalent in rupees is\",rupees)\n"
   ]
  },
  {
   "cell_type": "code",
   "execution_count": 13,
   "metadata": {},
   "outputs": [
    {
     "name": "stdout",
     "output_type": "stream",
     "text": [
      "enter the value of euros72\n",
      "72 equivalent in rupees is 5760\n"
     ]
    }
   ],
   "source": [
    "euros=int(input(\"enter the value of euros\"))\n",
    "rupees=80*euros\n",
    "print(euros,\"equivalent in rupees is\",rupees)\n"
   ]
  },
  {
   "cell_type": "code",
   "execution_count": 14,
   "metadata": {},
   "outputs": [
    {
     "name": "stdout",
     "output_type": "stream",
     "text": [
      "enter the value of euros7\n",
      "7 equivalent in rupees is 560\n"
     ]
    }
   ],
   "source": [
    "euros=int(input(\"enter the value of euros\"))\n",
    "rupees=80*euros\n",
    "print(euros,\"equivalent in rupees is\",rupees)\n"
   ]
  },
  {
   "cell_type": "code",
   "execution_count": 15,
   "metadata": {},
   "outputs": [
    {
     "name": "stdout",
     "output_type": "stream",
     "text": [
      "enter the value of euros35\n",
      "35 equivalent in rupees is 2800\n"
     ]
    }
   ],
   "source": [
    "euros=int(input(\"enter the value of euros\"))\n",
    "rupees=80*euros\n",
    "print(euros,\"equivalent in rupees is\",rupees)\n"
   ]
  },
  {
   "cell_type": "code",
   "execution_count": 16,
   "metadata": {},
   "outputs": [
    {
     "name": "stdout",
     "output_type": "stream",
     "text": [
      "enter the value of euros23\n",
      "23 equivalent in rupees is 1840\n"
     ]
    }
   ],
   "source": [
    "euros=int(input(\"enter the value of euros\"))\n",
    "rupees=80*euros\n",
    "print(euros,\"equivalent in rupees is\",rupees)\n"
   ]
  },
  {
   "cell_type": "code",
   "execution_count": 17,
   "metadata": {},
   "outputs": [
    {
     "name": "stdout",
     "output_type": "stream",
     "text": [
      "enter the value of euros95\n",
      "95 equivalent in rupees is 7600\n"
     ]
    }
   ],
   "source": [
    "euros=int(input(\"enter the value of euros\"))\n",
    "rupees=80*euros\n",
    "print(euros,\"equivalent in rupees is\",rupees)\n"
   ]
  },
  {
   "cell_type": "code",
   "execution_count": 18,
   "metadata": {},
   "outputs": [
    {
     "name": "stdout",
     "output_type": "stream",
     "text": [
      "enter the value of euros18\n",
      "18 equivalent in rupees is 1440\n"
     ]
    }
   ],
   "source": [
    "euros=int(input(\"enter the value of euros\"))\n",
    "rupees=80*euros\n",
    "print(euros,\"equivalent in rupees is\",rupees)\n"
   ]
  },
  {
   "cell_type": "code",
   "execution_count": null,
   "metadata": {},
   "outputs": [],
   "source": []
  }
 ],
 "metadata": {
  "kernelspec": {
   "display_name": "Python 3",
   "language": "python",
   "name": "python3"
  },
  "language_info": {
   "codemirror_mode": {
    "name": "ipython",
    "version": 3
   },
   "file_extension": ".py",
   "mimetype": "text/x-python",
   "name": "python",
   "nbconvert_exporter": "python",
   "pygments_lexer": "ipython3",
   "version": "3.8.3"
  }
 },
 "nbformat": 4,
 "nbformat_minor": 4
}
